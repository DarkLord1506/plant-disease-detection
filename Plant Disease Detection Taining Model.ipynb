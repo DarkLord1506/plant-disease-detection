{
 "cells": [
  {
   "cell_type": "code",
   "execution_count": 1,
   "id": "6b792ef8",
   "metadata": {},
   "outputs": [
    {
     "name": "stdout",
     "output_type": "stream",
     "text": [
      "Num GPUs Available:  1\n"
     ]
    }
   ],
   "source": [
    "import tensorflow as tf\n",
    "print(\"Num GPUs Available: \", len(tf.config.experimental.list_physical_devices('GPU')))\n"
   ]
  },
  {
   "cell_type": "code",
   "execution_count": 2,
   "id": "3508b943",
   "metadata": {},
   "outputs": [],
   "source": [
    "import numpy as np\n",
    "import pickle\n",
    "import cv2\n",
    "from os import listdir\n",
    "from tensorflow import keras\n",
    "from sklearn.preprocessing import LabelBinarizer\n",
    "from keras.models import Sequential\n",
    "from keras.layers import BatchNormalization\n",
    "from keras.layers.convolutional import Conv2D\n",
    "from keras.layers.convolutional import MaxPooling2D\n",
    "from keras.layers.core import Activation, Flatten, Dropout, Dense\n",
    "from keras import backend as K\n",
    "from keras.preprocessing.image import ImageDataGenerator\n",
    "from tensorflow.keras.optimizers import Adam\n",
    "from keras.preprocessing import image\n",
    "from keras.preprocessing.image import img_to_array\n",
    "from sklearn.preprocessing import MultiLabelBinarizer\n",
    "from sklearn.model_selection import train_test_split\n",
    "import matplotlib.pyplot as plt\n",
    "from keras.applications.vgg19 import preprocess_input\n",
    "from keras.preprocessing.image import load_img, img_to_array\n",
    "from PIL import Image\n",
    "import base64\n",
    "import io"
   ]
  },
  {
   "cell_type": "code",
   "execution_count": 15,
   "id": "19353f6c",
   "metadata": {},
   "outputs": [],
   "source": [
    "EPOCHS = 100\n",
    "INIT_LR = 1e-3\n",
    "BS = 32\n",
    "default_image_size = tuple((256, 256))\n",
    "image_size = 0\n",
    "directory_root = r\"F:\\New Dataset\\archive\\plantvillage dataset\\color\"\n",
    "width=256\n",
    "height=256\n",
    "depth=3"
   ]
  },
  {
   "cell_type": "code",
   "execution_count": 4,
   "id": "7306df2e",
   "metadata": {},
   "outputs": [],
   "source": [
    "def convert_image_to_array(image_dir):\n",
    "    try:\n",
    "        image = cv2.imread(image_dir)\n",
    "        if image is not None :\n",
    "            image = cv2.resize(image, default_image_size)   \n",
    "            return img_to_array(image)\n",
    "        else :\n",
    "            return np.array([])\n",
    "    except Exception as e:\n",
    "        print(f\"Error : {e}\")\n",
    "        return None"
   ]
  },
  {
   "cell_type": "code",
   "execution_count": 5,
   "id": "94a952d2",
   "metadata": {},
   "outputs": [
    {
     "name": "stdout",
     "output_type": "stream",
     "text": [
      "[INFO] Loading images ...\n",
      "[INFO] Processing Apple___Apple_scab ...\n",
      "[INFO] Processing Apple___Black_rot ...\n",
      "[INFO] Processing Apple___Cedar_apple_rust ...\n",
      "[INFO] Processing Apple___healthy ...\n",
      "[INFO] Processing Blueberry___healthy ...\n",
      "[INFO] Processing Cherry_(including_sour)___healthy ...\n",
      "[INFO] Processing Cherry_(including_sour)___Powdery_mildew ...\n",
      "[INFO] Processing Corn_(maize)___Cercospora_leaf_spot Gray_leaf_spot ...\n",
      "[INFO] Processing Corn_(maize)___Common_rust_ ...\n",
      "[INFO] Processing Corn_(maize)___healthy ...\n",
      "[INFO] Processing Corn_(maize)___Northern_Leaf_Blight ...\n",
      "[INFO] Processing Grape___Black_rot ...\n",
      "[INFO] Processing Grape___Esca_(Black_Measles) ...\n",
      "[INFO] Processing Grape___healthy ...\n",
      "[INFO] Processing Grape___Leaf_blight_(Isariopsis_Leaf_Spot) ...\n",
      "[INFO] Processing Orange___Haunglongbing_(Citrus_greening) ...\n",
      "[INFO] Processing Peach___Bacterial_spot ...\n",
      "[INFO] Processing Peach___healthy ...\n",
      "[INFO] Processing Pepper,_bell___Bacterial_spot ...\n",
      "[INFO] Processing Pepper,_bell___healthy ...\n",
      "[INFO] Processing Potato___Early_blight ...\n",
      "[INFO] Processing Potato___healthy ...\n",
      "[INFO] Processing Potato___Late_blight ...\n",
      "[INFO] Processing Raspberry___healthy ...\n",
      "[INFO] Processing Soybean___healthy ...\n",
      "[INFO] Processing Squash___Powdery_mildew ...\n",
      "[INFO] Processing Strawberry___healthy ...\n",
      "[INFO] Processing Strawberry___Leaf_scorch ...\n",
      "[INFO] Processing Tomato___Bacterial_spot ...\n",
      "[INFO] Processing Tomato___Early_blight ...\n",
      "[INFO] Processing Tomato___healthy ...\n",
      "[INFO] Processing Tomato___Late_blight ...\n",
      "[INFO] Processing Tomato___Leaf_Mold ...\n",
      "[INFO] Processing Tomato___Septoria_leaf_spot ...\n",
      "[INFO] Processing Tomato___Spider_mites Two-spotted_spider_mite ...\n",
      "[INFO] Processing Tomato___Target_Spot ...\n",
      "[INFO] Processing Tomato___Tomato_mosaic_virus ...\n",
      "[INFO] Processing Tomato___Tomato_Yellow_Leaf_Curl_Virus ...\n",
      "[INFO] Image loading completed\n"
     ]
    }
   ],
   "source": [
    "image_list, label_list = [], []\n",
    "try:\n",
    "    print(\"[INFO] Loading images ...\")\n",
    "    root_dir = listdir(directory_root)\n",
    "    for directory in root_dir :\n",
    "        # remove .DS_Store from list\n",
    "        if directory == \".DS_Store\" :\n",
    "            root_dir.remove(directory)\n",
    "\n",
    "    for plant_folder in root_dir :\n",
    "        plant_disease_folder_list = listdir(f\"{directory_root}\\\\{plant_folder}\")\n",
    "        \n",
    "        for disease_folder in plant_disease_folder_list :\n",
    "            # remove .DS_Store from list\n",
    "            if disease_folder == \".DS_Store\" :\n",
    "                plant_disease_folder_list.remove(disease_folder)\n",
    "\n",
    "        for plant_disease_folder in plant_disease_folder_list:\n",
    "            print(f\"[INFO] Processing {plant_disease_folder} ...\")\n",
    "            plant_disease_image_list = listdir(f\"{directory_root}\\\\{plant_folder}\\\\{plant_disease_folder}\")\n",
    "                \n",
    "            for single_plant_disease_image in plant_disease_image_list :\n",
    "                if single_plant_disease_image == \".DS_Store\" :\n",
    "                    plant_disease_image_list.remove(single_plant_disease_image)\n",
    "\n",
    "            for image in plant_disease_image_list[:200]:\n",
    "                image_directory = f\"{directory_root}\\\\{plant_folder}\\\\{plant_disease_folder}\\\\{image}\"\n",
    "                if image_directory.endswith(\".jpg\") == True or image_directory.endswith(\".JPG\") == True:\n",
    "                    image_list.append(convert_image_to_array(image_directory))\n",
    "                    label_list.append(plant_disease_folder)\n",
    "    print(\"[INFO] Image loading completed\")  \n",
    "except Exception as e:\n",
    "    print(f\"Error : {e}\")"
   ]
  },
  {
   "cell_type": "code",
   "execution_count": 6,
   "id": "661f94a0",
   "metadata": {},
   "outputs": [
    {
     "name": "stdout",
     "output_type": "stream",
     "text": [
      "7552\n"
     ]
    }
   ],
   "source": [
    "#Get Size of Processed Image\n",
    "image_size = len(image_list)\n",
    "print(image_size)"
   ]
  },
  {
   "cell_type": "code",
   "execution_count": 7,
   "id": "41a161bf",
   "metadata": {},
   "outputs": [
    {
     "name": "stdout",
     "output_type": "stream",
     "text": [
      "['Apple___Apple_scab' 'Apple___Black_rot' 'Apple___Cedar_apple_rust'\n",
      " 'Apple___healthy' 'Blueberry___healthy'\n",
      " 'Cherry_(including_sour)___Powdery_mildew'\n",
      " 'Cherry_(including_sour)___healthy'\n",
      " 'Corn_(maize)___Cercospora_leaf_spot Gray_leaf_spot'\n",
      " 'Corn_(maize)___Common_rust_' 'Corn_(maize)___Northern_Leaf_Blight'\n",
      " 'Corn_(maize)___healthy' 'Grape___Black_rot'\n",
      " 'Grape___Esca_(Black_Measles)'\n",
      " 'Grape___Leaf_blight_(Isariopsis_Leaf_Spot)' 'Grape___healthy'\n",
      " 'Orange___Haunglongbing_(Citrus_greening)' 'Peach___Bacterial_spot'\n",
      " 'Peach___healthy' 'Pepper,_bell___Bacterial_spot'\n",
      " 'Pepper,_bell___healthy' 'Potato___Early_blight' 'Potato___Late_blight'\n",
      " 'Potato___healthy' 'Raspberry___healthy' 'Soybean___healthy'\n",
      " 'Squash___Powdery_mildew' 'Strawberry___Leaf_scorch'\n",
      " 'Strawberry___healthy' 'Tomato___Bacterial_spot' 'Tomato___Early_blight'\n",
      " 'Tomato___Late_blight' 'Tomato___Leaf_Mold' 'Tomato___Septoria_leaf_spot'\n",
      " 'Tomato___Spider_mites Two-spotted_spider_mite' 'Tomato___Target_Spot'\n",
      " 'Tomato___Tomato_Yellow_Leaf_Curl_Virus' 'Tomato___Tomato_mosaic_virus'\n",
      " 'Tomato___healthy']\n"
     ]
    }
   ],
   "source": [
    "#Transform Image Labels uisng Scikit Learn's LabelBinarizer\n",
    "label_binarizer = LabelBinarizer()\n",
    "image_labels = label_binarizer.fit_transform(label_list)\n",
    "pickle.dump(label_binarizer,open('label_transform.pkl', 'wb'))\n",
    "n_classes = len(label_binarizer.classes_)\n",
    "#Print the classes\n",
    "print(label_binarizer.classes_)"
   ]
  },
  {
   "cell_type": "code",
   "execution_count": 8,
   "id": "4f77ec5f",
   "metadata": {},
   "outputs": [],
   "source": [
    "np_image_list = np.array(image_list, dtype=np.float16) / 225.0"
   ]
  },
  {
   "cell_type": "code",
   "execution_count": 9,
   "id": "02473737",
   "metadata": {},
   "outputs": [
    {
     "name": "stdout",
     "output_type": "stream",
     "text": [
      "[INFO] Spliting data to train, test\n"
     ]
    }
   ],
   "source": [
    "print(\"[INFO] Spliting data to train, test\")\n",
    "x_train, x_test, y_train, y_test = train_test_split(np_image_list, image_labels, test_size=0.2, random_state = 42) "
   ]
  },
  {
   "cell_type": "code",
   "execution_count": 10,
   "id": "6b0b65c5",
   "metadata": {},
   "outputs": [],
   "source": [
    "aug = ImageDataGenerator(\n",
    "    rotation_range=25, width_shift_range=0.1,\n",
    "    height_shift_range=0.1, shear_range=0.2, \n",
    "    zoom_range=0.2,horizontal_flip=True, \n",
    "    fill_mode=\"nearest\")"
   ]
  },
  {
   "cell_type": "code",
   "execution_count": 11,
   "id": "0d31a10b",
   "metadata": {},
   "outputs": [],
   "source": [
    "model = Sequential()\n",
    "inputShape = (height, width, depth)\n",
    "chanDim = -1\n",
    "if K.image_data_format() == \"channels_first\":\n",
    "    inputShape = (depth, height, width)\n",
    "    chanDim = 1\n",
    "model.add(Conv2D(32, (3, 3), padding=\"same\",input_shape=inputShape))\n",
    "model.add(Activation(\"relu\"))\n",
    "model.add(BatchNormalization(axis=chanDim))\n",
    "model.add(MaxPooling2D(pool_size=(3, 3)))\n",
    "model.add(Dropout(0.25))\n",
    "\n",
    "model.add(Conv2D(64, (3, 3), padding=\"same\"))\n",
    "model.add(Activation(\"relu\"))\n",
    "model.add(BatchNormalization(axis=chanDim))\n",
    "\n",
    "model.add(Conv2D(64, (3, 3), padding=\"same\"))\n",
    "model.add(Activation(\"relu\"))\n",
    "model.add(BatchNormalization(axis=chanDim))\n",
    "model.add(MaxPooling2D(pool_size=(2, 2)))\n",
    "model.add(Dropout(0.25))\n",
    "\n",
    "model.add(Conv2D(128, (3, 3), padding=\"same\"))\n",
    "model.add(Activation(\"relu\"))\n",
    "model.add(BatchNormalization(axis=chanDim))\n",
    "\n",
    "model.add(Conv2D(128, (3, 3), padding=\"same\"))\n",
    "model.add(Activation(\"relu\"))\n",
    "model.add(BatchNormalization(axis=chanDim))\n",
    "model.add(MaxPooling2D(pool_size=(2, 2)))\n",
    "model.add(Dropout(0.25))\n",
    "model.add(Flatten())\n",
    "model.add(Dense(1024))\n",
    "model.add(Activation(\"relu\"))\n",
    "model.add(BatchNormalization())\n",
    "model.add(Dropout(0.5))\n",
    "model.add(Dense(n_classes))\n",
    "model.add(Activation(\"softmax\"))"
   ]
  },
  {
   "cell_type": "code",
   "execution_count": 12,
   "id": "dcd4bf4d",
   "metadata": {},
   "outputs": [
    {
     "name": "stdout",
     "output_type": "stream",
     "text": [
      "Model: \"sequential\"\n",
      "_________________________________________________________________\n",
      " Layer (type)                Output Shape              Param #   \n",
      "=================================================================\n",
      " conv2d (Conv2D)             (None, 256, 256, 32)      896       \n",
      "                                                                 \n",
      " activation (Activation)     (None, 256, 256, 32)      0         \n",
      "                                                                 \n",
      " batch_normalization (BatchN  (None, 256, 256, 32)     128       \n",
      " ormalization)                                                   \n",
      "                                                                 \n",
      " max_pooling2d (MaxPooling2D  (None, 85, 85, 32)       0         \n",
      " )                                                               \n",
      "                                                                 \n",
      " dropout (Dropout)           (None, 85, 85, 32)        0         \n",
      "                                                                 \n",
      " conv2d_1 (Conv2D)           (None, 85, 85, 64)        18496     \n",
      "                                                                 \n",
      " activation_1 (Activation)   (None, 85, 85, 64)        0         \n",
      "                                                                 \n",
      " batch_normalization_1 (Batc  (None, 85, 85, 64)       256       \n",
      " hNormalization)                                                 \n",
      "                                                                 \n",
      " conv2d_2 (Conv2D)           (None, 85, 85, 64)        36928     \n",
      "                                                                 \n",
      " activation_2 (Activation)   (None, 85, 85, 64)        0         \n",
      "                                                                 \n",
      " batch_normalization_2 (Batc  (None, 85, 85, 64)       256       \n",
      " hNormalization)                                                 \n",
      "                                                                 \n",
      " max_pooling2d_1 (MaxPooling  (None, 42, 42, 64)       0         \n",
      " 2D)                                                             \n",
      "                                                                 \n",
      " dropout_1 (Dropout)         (None, 42, 42, 64)        0         \n",
      "                                                                 \n",
      " conv2d_3 (Conv2D)           (None, 42, 42, 128)       73856     \n",
      "                                                                 \n",
      " activation_3 (Activation)   (None, 42, 42, 128)       0         \n",
      "                                                                 \n",
      " batch_normalization_3 (Batc  (None, 42, 42, 128)      512       \n",
      " hNormalization)                                                 \n",
      "                                                                 \n",
      " conv2d_4 (Conv2D)           (None, 42, 42, 128)       147584    \n",
      "                                                                 \n",
      " activation_4 (Activation)   (None, 42, 42, 128)       0         \n",
      "                                                                 \n",
      " batch_normalization_4 (Batc  (None, 42, 42, 128)      512       \n",
      " hNormalization)                                                 \n",
      "                                                                 \n",
      " max_pooling2d_2 (MaxPooling  (None, 21, 21, 128)      0         \n",
      " 2D)                                                             \n",
      "                                                                 \n",
      " dropout_2 (Dropout)         (None, 21, 21, 128)       0         \n",
      "                                                                 \n",
      " flatten (Flatten)           (None, 56448)             0         \n",
      "                                                                 \n",
      " dense (Dense)               (None, 1024)              57803776  \n",
      "                                                                 \n",
      " activation_5 (Activation)   (None, 1024)              0         \n",
      "                                                                 \n",
      " batch_normalization_5 (Batc  (None, 1024)             4096      \n",
      " hNormalization)                                                 \n",
      "                                                                 \n",
      " dropout_3 (Dropout)         (None, 1024)              0         \n",
      "                                                                 \n",
      " dense_1 (Dense)             (None, 38)                38950     \n",
      "                                                                 \n",
      " activation_6 (Activation)   (None, 38)                0         \n",
      "                                                                 \n",
      "=================================================================\n",
      "Total params: 58,126,246\n",
      "Trainable params: 58,123,366\n",
      "Non-trainable params: 2,880\n",
      "_________________________________________________________________\n"
     ]
    }
   ],
   "source": [
    "model.summary()"
   ]
  },
  {
   "cell_type": "code",
   "execution_count": 13,
   "id": "00e6672f",
   "metadata": {},
   "outputs": [
    {
     "name": "stdout",
     "output_type": "stream",
     "text": [
      "[INFO] training network...\n"
     ]
    }
   ],
   "source": [
    "opt = Adam(learning_rate=INIT_LR, decay=INIT_LR / EPOCHS)\n",
    "# distribution\n",
    "model.compile(loss=\"binary_crossentropy\", optimizer=opt,metrics=[\"accuracy\"])\n",
    "# train the network\n",
    "print(\"[INFO] training network...\")"
   ]
  },
  {
   "cell_type": "code",
   "execution_count": 16,
   "id": "1930aa84",
   "metadata": {},
   "outputs": [
    {
     "name": "stdout",
     "output_type": "stream",
     "text": [
      "Epoch 1/100\n",
      "188/188 [==============================] - 60s 316ms/step - loss: 0.0575 - accuracy: 0.6349 - val_loss: 0.1100 - val_accuracy: 0.3766\n",
      "Epoch 2/100\n",
      "188/188 [==============================] - 59s 315ms/step - loss: 0.0507 - accuracy: 0.6915 - val_loss: 0.0931 - val_accuracy: 0.4408\n",
      "Epoch 3/100\n",
      "188/188 [==============================] - 59s 315ms/step - loss: 0.0474 - accuracy: 0.7133 - val_loss: 0.0937 - val_accuracy: 0.4600\n",
      "Epoch 4/100\n",
      "188/188 [==============================] - 59s 314ms/step - loss: 0.0421 - accuracy: 0.7462 - val_loss: 0.0488 - val_accuracy: 0.6850\n",
      "Epoch 5/100\n",
      "188/188 [==============================] - 59s 315ms/step - loss: 0.0422 - accuracy: 0.7504 - val_loss: 0.0690 - val_accuracy: 0.6248\n",
      "Epoch 6/100\n",
      "188/188 [==============================] - 59s 314ms/step - loss: 0.0402 - accuracy: 0.7605 - val_loss: 0.1004 - val_accuracy: 0.6320\n",
      "Epoch 7/100\n",
      "188/188 [==============================] - 59s 314ms/step - loss: 0.0358 - accuracy: 0.7898 - val_loss: 0.0480 - val_accuracy: 0.7670\n",
      "Epoch 8/100\n",
      "188/188 [==============================] - 60s 316ms/step - loss: 0.0349 - accuracy: 0.7973 - val_loss: 0.0523 - val_accuracy: 0.6949\n",
      "Epoch 9/100\n",
      "188/188 [==============================] - 59s 314ms/step - loss: 0.0370 - accuracy: 0.7817 - val_loss: 0.0963 - val_accuracy: 0.5189\n",
      "Epoch 10/100\n",
      "188/188 [==============================] - 59s 316ms/step - loss: 0.0313 - accuracy: 0.8236 - val_loss: 0.0815 - val_accuracy: 0.5784\n",
      "Epoch 11/100\n",
      "188/188 [==============================] - 59s 315ms/step - loss: 0.0322 - accuracy: 0.8158 - val_loss: 0.0879 - val_accuracy: 0.5354\n",
      "Epoch 12/100\n",
      "188/188 [==============================] - 59s 315ms/step - loss: 0.0280 - accuracy: 0.8462 - val_loss: 0.0480 - val_accuracy: 0.7604\n",
      "Epoch 13/100\n",
      "188/188 [==============================] - 59s 315ms/step - loss: 0.0268 - accuracy: 0.8537 - val_loss: 0.0368 - val_accuracy: 0.7995\n",
      "Epoch 14/100\n",
      "188/188 [==============================] - 59s 315ms/step - loss: 0.0272 - accuracy: 0.8472 - val_loss: 0.0440 - val_accuracy: 0.7379\n",
      "Epoch 15/100\n",
      "188/188 [==============================] - 59s 315ms/step - loss: 0.0242 - accuracy: 0.8675 - val_loss: 0.0891 - val_accuracy: 0.5857\n",
      "Epoch 16/100\n",
      "188/188 [==============================] - 59s 314ms/step - loss: 0.0224 - accuracy: 0.8832 - val_loss: 0.0546 - val_accuracy: 0.7201\n",
      "Epoch 17/100\n",
      "188/188 [==============================] - 59s 312ms/step - loss: 0.0231 - accuracy: 0.8790 - val_loss: 0.1195 - val_accuracy: 0.5539\n",
      "Epoch 18/100\n",
      "188/188 [==============================] - 59s 313ms/step - loss: 0.0209 - accuracy: 0.8907 - val_loss: 0.0481 - val_accuracy: 0.7604\n",
      "Epoch 19/100\n",
      "188/188 [==============================] - 59s 312ms/step - loss: 0.0198 - accuracy: 0.8990 - val_loss: 0.0465 - val_accuracy: 0.7439\n",
      "Epoch 20/100\n",
      "188/188 [==============================] - 58s 310ms/step - loss: 0.0190 - accuracy: 0.9048 - val_loss: 0.0891 - val_accuracy: 0.6373\n",
      "Epoch 21/100\n",
      "188/188 [==============================] - 59s 311ms/step - loss: 0.0244 - accuracy: 0.8685 - val_loss: 0.1969 - val_accuracy: 0.4150\n",
      "Epoch 22/100\n",
      "188/188 [==============================] - 59s 312ms/step - loss: 0.0202 - accuracy: 0.8940 - val_loss: 0.0530 - val_accuracy: 0.7035\n",
      "Epoch 23/100\n",
      "188/188 [==============================] - 59s 312ms/step - loss: 0.0240 - accuracy: 0.8730 - val_loss: 0.1335 - val_accuracy: 0.4196\n",
      "Epoch 24/100\n",
      "188/188 [==============================] - 59s 312ms/step - loss: 0.0206 - accuracy: 0.8950 - val_loss: 0.0299 - val_accuracy: 0.8339\n",
      "Epoch 25/100\n",
      "188/188 [==============================] - 59s 311ms/step - loss: 0.0182 - accuracy: 0.9073 - val_loss: 0.0480 - val_accuracy: 0.7644\n",
      "Epoch 26/100\n",
      "188/188 [==============================] - 59s 311ms/step - loss: 0.0223 - accuracy: 0.8850 - val_loss: 0.0242 - val_accuracy: 0.8676\n",
      "Epoch 27/100\n",
      "188/188 [==============================] - 59s 311ms/step - loss: 0.0216 - accuracy: 0.8833 - val_loss: 0.0727 - val_accuracy: 0.6651\n",
      "Epoch 28/100\n",
      "188/188 [==============================] - 59s 312ms/step - loss: 0.0175 - accuracy: 0.9116 - val_loss: 0.0841 - val_accuracy: 0.6744\n",
      "Epoch 29/100\n",
      "188/188 [==============================] - 59s 312ms/step - loss: 0.0157 - accuracy: 0.9210 - val_loss: 0.0281 - val_accuracy: 0.8405\n",
      "Epoch 30/100\n",
      "188/188 [==============================] - 59s 312ms/step - loss: 0.0147 - accuracy: 0.9284 - val_loss: 0.0213 - val_accuracy: 0.8795\n",
      "Epoch 31/100\n",
      "188/188 [==============================] - 59s 312ms/step - loss: 0.0145 - accuracy: 0.9268 - val_loss: 0.0330 - val_accuracy: 0.8114\n",
      "Epoch 32/100\n",
      "188/188 [==============================] - 59s 311ms/step - loss: 0.0138 - accuracy: 0.9349 - val_loss: 0.1384 - val_accuracy: 0.5036\n",
      "Epoch 33/100\n",
      "188/188 [==============================] - 58s 310ms/step - loss: 0.0123 - accuracy: 0.9419 - val_loss: 0.0374 - val_accuracy: 0.8226\n",
      "Epoch 34/100\n",
      "188/188 [==============================] - 59s 312ms/step - loss: 0.0124 - accuracy: 0.9431 - val_loss: 0.0475 - val_accuracy: 0.7651\n",
      "Epoch 35/100\n",
      "188/188 [==============================] - 59s 312ms/step - loss: 0.0162 - accuracy: 0.9231 - val_loss: 0.0518 - val_accuracy: 0.7591\n",
      "Epoch 36/100\n",
      "188/188 [==============================] - 59s 311ms/step - loss: 0.0124 - accuracy: 0.9426 - val_loss: 0.0712 - val_accuracy: 0.7022\n",
      "Epoch 37/100\n",
      "188/188 [==============================] - 59s 313ms/step - loss: 0.0116 - accuracy: 0.9452 - val_loss: 0.0208 - val_accuracy: 0.8941\n",
      "Epoch 38/100\n",
      "188/188 [==============================] - 59s 313ms/step - loss: 0.0115 - accuracy: 0.9487 - val_loss: 0.0256 - val_accuracy: 0.8617\n",
      "Epoch 39/100\n",
      "188/188 [==============================] - 59s 314ms/step - loss: 0.0105 - accuracy: 0.9546 - val_loss: 0.0763 - val_accuracy: 0.7075\n",
      "Epoch 40/100\n",
      "188/188 [==============================] - 59s 315ms/step - loss: 0.0102 - accuracy: 0.9522 - val_loss: 0.0556 - val_accuracy: 0.7809\n",
      "Epoch 41/100\n",
      "188/188 [==============================] - 59s 316ms/step - loss: 0.0098 - accuracy: 0.9547 - val_loss: 0.0442 - val_accuracy: 0.8154\n",
      "Epoch 42/100\n",
      "188/188 [==============================] - 59s 315ms/step - loss: 0.0104 - accuracy: 0.9534 - val_loss: 0.0621 - val_accuracy: 0.7439\n",
      "Epoch 43/100\n",
      "188/188 [==============================] - 59s 314ms/step - loss: 0.0099 - accuracy: 0.9581 - val_loss: 0.1756 - val_accuracy: 0.4083\n",
      "Epoch 44/100\n",
      "188/188 [==============================] - 59s 315ms/step - loss: 0.0103 - accuracy: 0.9549 - val_loss: 0.0827 - val_accuracy: 0.6949\n",
      "Epoch 45/100\n",
      "188/188 [==============================] - 59s 313ms/step - loss: 0.0096 - accuracy: 0.9552 - val_loss: 0.2365 - val_accuracy: 0.4739\n",
      "Epoch 46/100\n",
      "188/188 [==============================] - 59s 313ms/step - loss: 0.0094 - accuracy: 0.9591 - val_loss: 0.0624 - val_accuracy: 0.7287\n",
      "Epoch 47/100\n",
      "188/188 [==============================] - 59s 313ms/step - loss: 0.0094 - accuracy: 0.9619 - val_loss: 0.0573 - val_accuracy: 0.7670\n",
      "Epoch 48/100\n",
      "188/188 [==============================] - 59s 313ms/step - loss: 0.0089 - accuracy: 0.9609 - val_loss: 0.0328 - val_accuracy: 0.8478\n",
      "Epoch 49/100\n",
      "188/188 [==============================] - 59s 313ms/step - loss: 0.0082 - accuracy: 0.9666 - val_loss: 0.0273 - val_accuracy: 0.8835\n",
      "Epoch 50/100\n",
      "188/188 [==============================] - 59s 313ms/step - loss: 0.0084 - accuracy: 0.9656 - val_loss: 0.0300 - val_accuracy: 0.8577\n",
      "Epoch 51/100\n",
      "188/188 [==============================] - 59s 312ms/step - loss: 0.0082 - accuracy: 0.9652 - val_loss: 0.3064 - val_accuracy: 0.2237\n",
      "Epoch 52/100\n",
      "188/188 [==============================] - 59s 313ms/step - loss: 0.0087 - accuracy: 0.9629 - val_loss: 0.0312 - val_accuracy: 0.8564\n",
      "Epoch 53/100\n",
      "188/188 [==============================] - 59s 314ms/step - loss: 0.0081 - accuracy: 0.9667 - val_loss: 0.0468 - val_accuracy: 0.8048\n",
      "Epoch 54/100\n",
      "188/188 [==============================] - 59s 314ms/step - loss: 0.0076 - accuracy: 0.9722 - val_loss: 0.0471 - val_accuracy: 0.8021\n",
      "Epoch 55/100\n",
      "188/188 [==============================] - 59s 313ms/step - loss: 0.0070 - accuracy: 0.9725 - val_loss: 0.0505 - val_accuracy: 0.8041\n",
      "Epoch 56/100\n",
      "188/188 [==============================] - 59s 313ms/step - loss: 0.0067 - accuracy: 0.9774 - val_loss: 0.0769 - val_accuracy: 0.7426\n"
     ]
    },
    {
     "name": "stdout",
     "output_type": "stream",
     "text": [
      "Epoch 57/100\n",
      "188/188 [==============================] - 59s 313ms/step - loss: 0.0068 - accuracy: 0.9762 - val_loss: 0.0358 - val_accuracy: 0.8398\n",
      "Epoch 58/100\n",
      "188/188 [==============================] - 59s 313ms/step - loss: 0.0073 - accuracy: 0.9714 - val_loss: 0.2132 - val_accuracy: 0.4957\n",
      "Epoch 59/100\n",
      "188/188 [==============================] - 59s 313ms/step - loss: 0.0072 - accuracy: 0.9722 - val_loss: 0.0226 - val_accuracy: 0.8987\n",
      "Epoch 60/100\n",
      "188/188 [==============================] - 59s 313ms/step - loss: 0.0073 - accuracy: 0.9684 - val_loss: 0.0336 - val_accuracy: 0.8557\n",
      "Epoch 61/100\n",
      "188/188 [==============================] - 59s 314ms/step - loss: 0.0063 - accuracy: 0.9777 - val_loss: 0.1813 - val_accuracy: 0.5063\n",
      "Epoch 62/100\n",
      "188/188 [==============================] - 59s 313ms/step - loss: 0.0062 - accuracy: 0.9744 - val_loss: 0.0183 - val_accuracy: 0.9140\n",
      "Epoch 63/100\n",
      "188/188 [==============================] - 59s 313ms/step - loss: 0.0062 - accuracy: 0.9764 - val_loss: 0.0268 - val_accuracy: 0.8901\n",
      "Epoch 64/100\n",
      "188/188 [==============================] - 59s 315ms/step - loss: 0.0059 - accuracy: 0.9792 - val_loss: 0.0196 - val_accuracy: 0.9186\n",
      "Epoch 65/100\n",
      "188/188 [==============================] - 59s 314ms/step - loss: 0.0056 - accuracy: 0.9777 - val_loss: 0.0174 - val_accuracy: 0.9219\n",
      "Epoch 66/100\n",
      "188/188 [==============================] - 59s 315ms/step - loss: 0.0072 - accuracy: 0.9715 - val_loss: 0.0155 - val_accuracy: 0.9226\n",
      "Epoch 67/100\n",
      "188/188 [==============================] - 59s 315ms/step - loss: 0.0064 - accuracy: 0.9754 - val_loss: 0.0169 - val_accuracy: 0.9226\n",
      "Epoch 68/100\n",
      "188/188 [==============================] - 59s 314ms/step - loss: 0.0051 - accuracy: 0.9805 - val_loss: 0.0909 - val_accuracy: 0.7042\n",
      "Epoch 69/100\n",
      "188/188 [==============================] - 59s 315ms/step - loss: 0.0055 - accuracy: 0.9792 - val_loss: 0.0441 - val_accuracy: 0.8412\n",
      "Epoch 70/100\n",
      "188/188 [==============================] - 59s 314ms/step - loss: 0.0057 - accuracy: 0.9785 - val_loss: 0.1823 - val_accuracy: 0.4699\n",
      "Epoch 71/100\n",
      "188/188 [==============================] - 59s 314ms/step - loss: 0.0060 - accuracy: 0.9790 - val_loss: 0.0316 - val_accuracy: 0.8690\n",
      "Epoch 72/100\n",
      "188/188 [==============================] - 59s 314ms/step - loss: 0.0045 - accuracy: 0.9860 - val_loss: 0.0197 - val_accuracy: 0.9113\n",
      "Epoch 73/100\n",
      "188/188 [==============================] - 59s 315ms/step - loss: 0.0050 - accuracy: 0.9820 - val_loss: 0.0743 - val_accuracy: 0.7697\n",
      "Epoch 74/100\n",
      "188/188 [==============================] - 59s 315ms/step - loss: 0.0052 - accuracy: 0.9810 - val_loss: 0.0959 - val_accuracy: 0.7148\n",
      "Epoch 75/100\n",
      "188/188 [==============================] - 59s 315ms/step - loss: 0.0047 - accuracy: 0.9825 - val_loss: 0.0230 - val_accuracy: 0.9060\n",
      "Epoch 76/100\n",
      "188/188 [==============================] - 59s 315ms/step - loss: 0.0044 - accuracy: 0.9852 - val_loss: 0.0614 - val_accuracy: 0.8074\n",
      "Epoch 77/100\n",
      "188/188 [==============================] - 59s 315ms/step - loss: 0.0062 - accuracy: 0.9732 - val_loss: 0.0645 - val_accuracy: 0.7478\n",
      "Epoch 78/100\n",
      "188/188 [==============================] - 59s 315ms/step - loss: 0.0051 - accuracy: 0.9819 - val_loss: 0.0379 - val_accuracy: 0.8498\n",
      "Epoch 79/100\n",
      "188/188 [==============================] - 59s 315ms/step - loss: 0.0045 - accuracy: 0.9859 - val_loss: 0.0311 - val_accuracy: 0.8723\n",
      "Epoch 80/100\n",
      "188/188 [==============================] - 59s 314ms/step - loss: 0.0044 - accuracy: 0.9842 - val_loss: 0.0619 - val_accuracy: 0.8048\n",
      "Epoch 81/100\n",
      "188/188 [==============================] - 59s 315ms/step - loss: 0.0042 - accuracy: 0.9850 - val_loss: 0.0235 - val_accuracy: 0.9087\n",
      "Epoch 82/100\n",
      "188/188 [==============================] - 59s 315ms/step - loss: 0.0038 - accuracy: 0.9897 - val_loss: 0.0528 - val_accuracy: 0.8352\n",
      "Epoch 83/100\n",
      "188/188 [==============================] - 59s 314ms/step - loss: 0.0040 - accuracy: 0.9869 - val_loss: 0.0918 - val_accuracy: 0.7194\n",
      "Epoch 84/100\n",
      "188/188 [==============================] - 59s 315ms/step - loss: 0.0044 - accuracy: 0.9852 - val_loss: 0.0379 - val_accuracy: 0.8478\n",
      "Epoch 85/100\n",
      "188/188 [==============================] - 59s 315ms/step - loss: 0.0046 - accuracy: 0.9844 - val_loss: 0.0276 - val_accuracy: 0.8842\n",
      "Epoch 86/100\n",
      "188/188 [==============================] - 59s 315ms/step - loss: 0.0038 - accuracy: 0.9882 - val_loss: 0.0511 - val_accuracy: 0.8332\n",
      "Epoch 87/100\n",
      "188/188 [==============================] - 59s 315ms/step - loss: 0.0040 - accuracy: 0.9865 - val_loss: 0.0291 - val_accuracy: 0.8968\n",
      "Epoch 88/100\n",
      "188/188 [==============================] - 59s 314ms/step - loss: 0.0040 - accuracy: 0.9852 - val_loss: 0.0457 - val_accuracy: 0.8193\n",
      "Epoch 89/100\n",
      "188/188 [==============================] - 59s 314ms/step - loss: 0.0039 - accuracy: 0.9870 - val_loss: 0.0676 - val_accuracy: 0.8253\n",
      "Epoch 90/100\n",
      "188/188 [==============================] - 59s 315ms/step - loss: 0.0037 - accuracy: 0.9869 - val_loss: 0.0126 - val_accuracy: 0.9471\n",
      "Epoch 91/100\n",
      "188/188 [==============================] - 59s 314ms/step - loss: 0.0042 - accuracy: 0.9862 - val_loss: 0.0985 - val_accuracy: 0.7247\n",
      "Epoch 92/100\n",
      "188/188 [==============================] - 59s 314ms/step - loss: 0.0039 - accuracy: 0.9880 - val_loss: 0.0215 - val_accuracy: 0.9193\n",
      "Epoch 93/100\n",
      "188/188 [==============================] - 59s 314ms/step - loss: 0.0034 - accuracy: 0.9895 - val_loss: 0.0179 - val_accuracy: 0.9332\n",
      "Epoch 94/100\n",
      "188/188 [==============================] - 59s 314ms/step - loss: 0.0039 - accuracy: 0.9895 - val_loss: 0.1343 - val_accuracy: 0.6942\n",
      "Epoch 95/100\n",
      "188/188 [==============================] - 59s 315ms/step - loss: 0.0034 - accuracy: 0.9884 - val_loss: 0.0335 - val_accuracy: 0.8954\n",
      "Epoch 96/100\n",
      "188/188 [==============================] - 59s 314ms/step - loss: 0.0034 - accuracy: 0.9890 - val_loss: 0.0146 - val_accuracy: 0.9385\n",
      "Epoch 97/100\n",
      "188/188 [==============================] - 59s 315ms/step - loss: 0.0034 - accuracy: 0.9890 - val_loss: 0.0503 - val_accuracy: 0.8253\n",
      "Epoch 98/100\n",
      "188/188 [==============================] - 59s 315ms/step - loss: 0.0062 - accuracy: 0.9777 - val_loss: 0.1614 - val_accuracy: 0.5592\n",
      "Epoch 99/100\n",
      "188/188 [==============================] - 59s 314ms/step - loss: 0.0043 - accuracy: 0.9869 - val_loss: 0.0465 - val_accuracy: 0.8604\n",
      "Epoch 100/100\n",
      "188/188 [==============================] - 59s 315ms/step - loss: 0.0037 - accuracy: 0.9885 - val_loss: 0.0555 - val_accuracy: 0.8418\n"
     ]
    }
   ],
   "source": [
    "history = model.fit(\n",
    "    aug.flow(x_train, y_train, batch_size=BS),\n",
    "    validation_data=(x_test, y_test),\n",
    "    steps_per_epoch=len(x_train) // BS,\n",
    "    epochs=EPOCHS, verbose=1\n",
    "    )"
   ]
  },
  {
   "cell_type": "code",
   "execution_count": 17,
   "id": "3adff28e",
   "metadata": {},
   "outputs": [
    {
     "data": {
      "image/png": "[encoded data removed]",
      "text/plain": [
       "<Figure size 432x288 with 1 Axes>"
      ]
     },
     "metadata": {
      "needs_background": "light"
     },
     "output_type": "display_data"
    },
    {
     "data": {
      "image/png": "[encoded data removed]",
      "text/plain": [
       "<Figure size 432x288 with 1 Axes>"
      ]
     },
     "metadata": {
      "needs_background": "light"
     },
     "output_type": "display_data"
    }
   ],
   "source": [
    "#Plot the train and val curve\n",
    "acc = history.history['accuracy']\n",
    "val_acc = history.history['val_accuracy']\n",
    "loss = history.history['loss']\n",
    "val_loss = history.history['val_loss']\n",
    "epochs = range(1, len(acc) + 1)\n",
    "#Train and validation accuracy\n",
    "plt.plot(epochs, acc, 'b', label='Training accurarcy')\n",
    "plt.plot(epochs, val_acc, 'r', label='Validation accurarcy')\n",
    "plt.title('Training and Validation accurarcy')\n",
    "plt.legend()\n",
    "\n",
    "plt.figure()\n",
    "#Train and validation loss\n",
    "plt.plot(epochs, loss, 'b', label='Training loss')\n",
    "plt.plot(epochs, val_loss, 'r', label='Validation loss')\n",
    "plt.title('Training and Validation loss')\n",
    "plt.legend()\n",
    "plt.show()"
   ]
  },
  {
   "cell_type": "code",
   "execution_count": 18,
   "id": "8dfa8b2a",
   "metadata": {},
   "outputs": [
    {
     "name": "stdout",
     "output_type": "stream",
     "text": [
      "[INFO] Calculating model accuracy\n",
      "48/48 [==============================] - 1s 20ms/step - loss: 0.0555 - accuracy: 0.8418\n",
      "Test Accuracy: 84.18266177177429\n"
     ]
    }
   ],
   "source": [
    "#Model Accuracy\n",
    "print(\"[INFO] Calculating model accuracy\")\n",
    "scores = model.evaluate(x_test, y_test)\n",
    "print(f\"Test Accuracy: {scores[1]*100}\")"
   ]
  },
  {
   "cell_type": "code",
   "execution_count": 19,
   "id": "b8406099",
   "metadata": {},
   "outputs": [
    {
     "name": "stdout",
     "output_type": "stream",
     "text": [
      "[INFO] Saving model...\n",
      "Model Saved!\n",
      "Model Loaded\n"
     ]
    }
   ],
   "source": [
    "print(\"[INFO] Saving model...\")\n",
    "\n",
    "model.save('F:\\Trained Models\\\\Color_84.h5')\n",
    "print('Model Saved!')\n",
    " \n",
    "# load model\n",
    "savedModel=keras.models.load_model('F:\\\\Trained Models\\\\Color_84.h5')\n",
    "print('Model Loaded')\n"
   ]
  },
  {
   "cell_type": "code",
   "execution_count": 18,
   "id": "b235eed2",
   "metadata": {},
   "outputs": [],
   "source": [
    "model.compile(loss=\"binary_crossentropy\", optimizer=opt,metrics=[\"accuracy\"])"
   ]
  },
  {
   "cell_type": "code",
   "execution_count": null,
   "id": "5c5472da",
   "metadata": {},
   "outputs": [],
   "source": []
  },
  {
   "cell_type": "code",
   "execution_count": 28,
   "id": "90dc9afb",
   "metadata": {},
   "outputs": [],
   "source": [
    "image_dir=r\"F:\\New Dataset\\archive\\plantvillage dataset\\color\\Plant Village\\Corn_(maize)___Cercospora_leaf_spot Gray_leaf_spot\\0e0ed08d-3021-49a7-9098-7c90afeb2fd5___RS_GLSp 4346.JPG\"\n",
    "\n",
    "im=convert_image_to_array(image_dir)\n",
    "np_image_li = np.array(im, dtype=np.float16) / 225.0\n",
    "npp_image = np.expand_dims(np_image_li, axis=0)"
   ]
  },
  {
   "cell_type": "code",
   "execution_count": 29,
   "id": "d41f29a7",
   "metadata": {},
   "outputs": [
    {
     "name": "stdout",
     "output_type": "stream",
     "text": [
      "[[6.65371181e-17 3.43055032e-20 3.69354965e-21 1.11261810e-23\n",
      "  5.95854893e-25 3.42337437e-27 1.43645820e-19 1.00000000e+00\n",
      "  8.65852355e-12 3.30172382e-11 4.76210732e-18 2.22937191e-22\n",
      "  4.10347520e-16 6.51150633e-20 6.23730129e-22 1.14102699e-20\n",
      "  3.21844396e-18 1.02487767e-32 3.17046434e-21 2.49824163e-25\n",
      "  1.40543988e-09 6.16018227e-25 1.29212955e-20 2.00234897e-22\n",
      "  3.50459035e-16 3.86153635e-18 2.46783981e-15 8.30697607e-23\n",
      "  2.59325998e-14 1.58109391e-18 3.78516052e-24 9.66682523e-22\n",
      "  1.07270900e-10 6.81093418e-23 3.72114908e-17 1.24969037e-24\n",
      "  2.64371933e-23 6.98317255e-17]]\n"
     ]
    }
   ],
   "source": [
    "result = model.predict(npp_image)\n",
    "\n",
    "print(result)"
   ]
  },
  {
   "cell_type": "code",
   "execution_count": 30,
   "id": "bf8c9105",
   "metadata": {},
   "outputs": [
    {
     "name": "stdout",
     "output_type": "stream",
     "text": [
      "probability:1.0\n",
      "Corn_(maize)___Cercospora_leaf_spot Gray_leaf_spot\n"
     ]
    }
   ],
   "source": [
    "itemindex = np.where(result==np.max(result))\n",
    "print(\"probability:\"+str(np.max(result))+\"\\n\"+label_binarizer.classes_[itemindex[1][0]])"
   ]
  },
  {
   "cell_type": "markdown",
   "id": "c6d4edc3",
   "metadata": {},
   "source": [
    "Running Test with Images from Internet"
   ]
  },
  {
   "cell_type": "code",
   "execution_count": 31,
   "id": "41c3304b",
   "metadata": {},
   "outputs": [],
   "source": [
    "savedModel=keras.models.load_model('F:\\\\Trained Models\\\\Color_84.h5')"
   ]
  },
  {
   "cell_type": "code",
   "execution_count": 35,
   "id": "cdd0779a",
   "metadata": {},
   "outputs": [],
   "source": [
    "opt = Adam(learning_rate=INIT_LR, decay=INIT_LR / EPOCHS)\n",
    "\n",
    "savedModel.compile(loss=\"binary_crossentropy\", optimizer=opt,metrics=[\"accuracy\"])"
   ]
  },
  {
   "cell_type": "code",
   "execution_count": 50,
   "id": "45f5b84c",
   "metadata": {},
   "outputs": [],
   "source": [
    "image_dir=r\"F:\\New Dataset\\archive\\plantvillage dataset\\color\\Plant Village\\Strawberry___healthy\\0b444634-b557-45f4-a68a-8e9e38cd6683___RS_HL 2184.JPG\"\n",
    "im=convert_image_to_array(image_dir)\n",
    "np_image_li = np.array(im, dtype=np.float16) / 225.0\n",
    "npp_image = np.expand_dims(np_image_li, axis=0)"
   ]
  },
  {
   "cell_type": "code",
   "execution_count": 51,
   "id": "78ccff41",
   "metadata": {},
   "outputs": [
    {
     "name": "stdout",
     "output_type": "stream",
     "text": [
      "[[8.31727262e-20 9.06385806e-20 1.47922402e-25 1.65246959e-15\n",
      "  1.06676544e-05 1.02625100e-19 1.42774334e-12 8.85812498e-18\n",
      "  5.06841454e-17 5.43733120e-22 1.62364772e-12 4.40086024e-25\n",
      "  1.02971508e-05 8.01797458e-14 3.11036512e-15 1.41913753e-15\n",
      "  1.76476209e-25 2.09698550e-26 2.33930878e-21 4.89259699e-09\n",
      "  1.85767027e-11 2.85987057e-27 2.99981496e-14 7.27845315e-14\n",
      "  7.24025284e-10 1.80016965e-14 2.59345395e-19 9.99978304e-01\n",
      "  2.36645477e-25 4.40532593e-26 6.01439974e-22 1.05707163e-20\n",
      "  3.07860980e-16 4.15273830e-23 7.37835930e-23 1.08934186e-20\n",
      "  9.70194944e-26 7.63757782e-07]]\n"
     ]
    }
   ],
   "source": [
    "result = savedModel.predict(npp_image)\n",
    "\n",
    "print(result)"
   ]
  },
  {
   "cell_type": "code",
   "execution_count": 52,
   "id": "e917d28f",
   "metadata": {
    "scrolled": true
   },
   "outputs": [
    {
     "name": "stdout",
     "output_type": "stream",
     "text": [
      "probability:0.9999783\n",
      "Strawberry___healthy\n"
     ]
    }
   ],
   "source": [
    "itemindex = np.where(result==np.max(result))\n",
    "print(\"probability:\"+str(np.max(result))+\"\\n\"+label_binarizer.classes_[itemindex[1][0]])"
   ]
  },
  {
   "cell_type": "code",
   "execution_count": null,
   "id": "4ec35862",
   "metadata": {},
   "outputs": [],
   "source": []
  },
  {
   "cell_type": "code",
   "execution_count": null,
   "id": "c22218a0",
   "metadata": {},
   "outputs": [],
   "source": []
  }
 ],
 "metadata": {
  "kernelspec": {
   "display_name": "Python 3 (ipykernel)",
   "language": "python",
   "name": "python3"
  },
  "language_info": {
   "codemirror_mode": {
    "name": "ipython",
    "version": 3
   },
   "file_extension": ".py",
   "mimetype": "text/x-python",
   "name": "python",
   "nbconvert_exporter": "python",
   "pygments_lexer": "ipython3",
   "version": "3.10.9"
  }
 },
 "nbformat": 4,
 "nbformat_minor": 5
}
